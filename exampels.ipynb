{
 "cells": [
  {
   "cell_type": "markdown",
   "metadata": {},
   "source": [
    "# Lær Python (Python3)"
   ]
  },
  {
   "cell_type": "code",
   "execution_count": null,
   "metadata": {},
   "outputs": [],
   "source": [
    "# Første program, skriv 'Hello World!' til skærmen med print(...) funktionen.\n",
    "print('Hello World!')  "
   ]
  },
  {
   "cell_type": "markdown",
   "metadata": {},
   "source": [
    "Regnefunktioner:"
   ]
  },
  {
   "cell_type": "code",
   "execution_count": null,
   "metadata": {},
   "outputs": [],
   "source": [
    "# Addision (plus) +\n",
    "2 + 2"
   ]
  },
  {
   "cell_type": "code",
   "execution_count": null,
   "metadata": {},
   "outputs": [],
   "source": [
    "# Subtraktion (minus) -\n",
    "4 - 2"
   ]
  },
  {
   "cell_type": "code",
   "execution_count": null,
   "metadata": {},
   "outputs": [],
   "source": [
    "# Multiplikation (gange) *\n",
    "2 * 3"
   ]
  },
  {
   "cell_type": "code",
   "execution_count": null,
   "metadata": {},
   "outputs": [],
   "source": [
    "# Division /\n",
    "6 / 2"
   ]
  },
  {
   "cell_type": "code",
   "execution_count": null,
   "metadata": {},
   "outputs": [],
   "source": [
    "# Hvad giver følgende regnestykke?\n",
    "4 + 2 * 3"
   ]
  },
  {
   "cell_type": "code",
   "execution_count": null,
   "metadata": {},
   "outputs": [],
   "source": [
    "# sammenligninger giver enten sand (True) eller falsk (False)\n",
    "1 == 2, 1 != 2, 1 > 2, 1 >= 2, 1 < 2, 1 <= 2"
   ]
  },
  {
   "cell_type": "markdown",
   "metadata": {},
   "source": [
    "Variabler"
   ]
  },
  {
   "cell_type": "code",
   "execution_count": null,
   "metadata": {},
   "outputs": [],
   "source": [
    "# Variabler\n",
    "navn = 'Obi Van Kenobi'  # String\n",
    "race = 'Cocker Spaniel'  \n",
    "alder = 6                # integer (hel-tal)\n",
    "vægt  = 11.4             # float (komma-tal)\n",
    "# format(...) er en indbygget String funktion til formattering af tekster.\n",
    "tekst = '{0} er en {1}, som er {2} år gammel og vejer {3} kg.'.format(navn, race, alder, vægt)\n",
    "print(tekst)"
   ]
  },
  {
   "cell_type": "markdown",
   "metadata": {},
   "source": [
    "IF statment udfører de næste indrykkede linjer hvis det er sandt.\n",
    "Husk ':' hver gang der laves en indrykning."
   ]
  },
  {
   "cell_type": "code",
   "execution_count": null,
   "metadata": {},
   "outputs": [],
   "source": [
    "if alder > 10:\n",
    "    print('{0} er en gammel hund'.format(navn))\n",
    "else:\n",
    "    print('{0} er ikke en gammel hund'.format(navn))"
   ]
  },
  {
   "cell_type": "code",
   "execution_count": null,
   "metadata": {},
   "outputs": [],
   "source": [
    "# alder = 12\n",
    "if alder > 10:\n",
    "    print('{0} er en gammel hund'.format(navn))\n",
    "elif alder > 3:\n",
    "    print('{0} er en hund i sin bedste alder'.format(navn))\n",
    "elif alder > 1:\n",
    "    print('{0} er en ung hund'.format(navn))\n",
    "else:\n",
    "    print('{0} er en hvalp'.format(navn))"
   ]
  },
  {
   "cell_type": "markdown",
   "metadata": {},
   "source": [
    "Løkker (loops) to muligheder. <br>\n",
    "1. while, som gentager sig selv så længe udsagnet er sandt... gør det her sålænge dette er opfyldt.\n",
    "2. for, som gør noget et antal gange, for eksempel for hvert element i en liste."
   ]
  },
  {
   "cell_type": "code",
   "execution_count": null,
   "metadata": {},
   "outputs": [],
   "source": [
    "i = 0\n",
    "while i < 10:\n",
    "    print(i)\n",
    "    i = i + 1"
   ]
  },
  {
   "cell_type": "code",
   "execution_count": null,
   "metadata": {},
   "outputs": [],
   "source": [
    "for i in range(10):\n",
    "    print(i)"
   ]
  },
  {
   "cell_type": "code",
   "execution_count": null,
   "metadata": {},
   "outputs": [],
   "source": [
    "for i in range(10,30,3):\n",
    "    print(i)"
   ]
  },
  {
   "cell_type": "code",
   "execution_count": null,
   "metadata": {},
   "outputs": [],
   "source": [
    "liste_af_bilmærker = ['Volvo', 'Skoda', 'BMW', 'VW', 'Seat', 'Toyota']  # Dette er en liste\n",
    "for bilmærke in liste_af_bilmærker:\n",
    "    print(bilmærke)"
   ]
  },
  {
   "cell_type": "code",
   "execution_count": null,
   "metadata": {},
   "outputs": [],
   "source": [
    "for i in range(100):\n",
    "    print(i)\n",
    "    if i > 5:\n",
    "        break\n",
    "print('slut')"
   ]
  },
  {
   "cell_type": "code",
   "execution_count": null,
   "metadata": {},
   "outputs": [],
   "source": [
    "for i in range(10):\n",
    "    for j in range(10):\n",
    "        print(i, j)\n",
    "        if j > 1:\n",
    "            break        \n",
    "    if i > 2:\n",
    "        break"
   ]
  },
  {
   "cell_type": "markdown",
   "metadata": {},
   "source": [
    "Funktioner"
   ]
  },
  {
   "cell_type": "code",
   "execution_count": null,
   "metadata": {},
   "outputs": [],
   "source": [
    "def hej(navn='Nemo'):\n",
    "    if navn=='Michael':\n",
    "        print('Hej {0}, sejt navn!'.format(navn))\n",
    "    else:\n",
    "        print('Hej {0}'.format(navn))"
   ]
  },
  {
   "cell_type": "code",
   "execution_count": null,
   "metadata": {},
   "outputs": [],
   "source": [
    "hej()"
   ]
  },
  {
   "cell_type": "code",
   "execution_count": null,
   "metadata": {},
   "outputs": [],
   "source": [
    "navne_liste = ['en Emil', 'Michael', navn]\n",
    "for navn in navne_liste:\n",
    "    hej(navn)"
   ]
  }
 ],
 "metadata": {
  "kernelspec": {
   "display_name": "Python 3",
   "language": "python",
   "name": "python3"
  },
  "language_info": {
   "codemirror_mode": {
    "name": "ipython",
    "version": 3
   },
   "file_extension": ".py",
   "mimetype": "text/x-python",
   "name": "python",
   "nbconvert_exporter": "python",
   "pygments_lexer": "ipython3",
   "version": "3.6.7"
  }
 },
 "nbformat": 4,
 "nbformat_minor": 2
}
